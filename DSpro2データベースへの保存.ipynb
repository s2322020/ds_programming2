{
  "nbformat": 4,
  "nbformat_minor": 0,
  "metadata": {
    "colab": {
      "provenance": []
    },
    "kernelspec": {
      "name": "python3",
      "display_name": "Python 3"
    },
    "language_info": {
      "name": "python"
    }
  },
  "cells": [
    {
      "cell_type": "code",
      "source": [
        "import sqlite3"
      ],
      "metadata": {
        "id": "QF75b9DU7wpb"
      },
      "execution_count": 3,
      "outputs": []
    },
    {
      "cell_type": "code",
      "source": [
        "!pwd"
      ],
      "metadata": {
        "colab": {
          "base_uri": "https://localhost:8080/"
        },
        "id": "gqwv2fBK7xe9",
        "outputId": "926cc019-b8df-46e8-a532-8fae0a86718e"
      },
      "execution_count": 4,
      "outputs": [
        {
          "output_type": "stream",
          "name": "stdout",
          "text": [
            "/content\n"
          ]
        }
      ]
    },
    {
      "cell_type": "code",
      "source": [
        "import requests\n",
        "from bs4 import BeautifulSoup\n",
        "import sqlite3\n",
        "\n",
        "# ウェブスクレイピング\n",
        "url = 'https://www.data.jma.go.jp/obd/stats/etrn/view/daily_s1.php?prec_no=44&block_no=47662&year=2023&month=12&day=&view=p1'\n",
        "response = requests.get(url)\n",
        "\n",
        "if response.status_code == 200:\n",
        "    soup = BeautifulSoup(response.text, 'html.parser')\n",
        "\n",
        "# データベースに接続\n",
        "con = sqlite3.connect('temperature_data.db')\n",
        "cur = con.cursor()\n",
        "\n",
        "# データを保存するためのテーブルを作成（適切なスキーマに調整）\n",
        "sql_create_table_date = 'CREATE TABLE date(day_data, temperature_data);'\n",
        "\n",
        "cur.execute(sql_create_table_date)\n",
        "\n",
        "con.close()"
      ],
      "metadata": {
        "id": "J48alBDA6Y9_"
      },
      "execution_count": 5,
      "outputs": []
    },
    {
      "cell_type": "code",
      "source": [
        "# データベースに接続\n",
        "conn = sqlite3.connect('local_temperature_data.db')\n",
        "cursor = conn.cursor()\n",
        "\n",
        "# データを保存するためのテーブルを作成（適切なスキーマに調整）\n",
        "sql_create_table_local = 'CREATE TABLE local(day_data, taion_data);'\n",
        "\n",
        "conn.close()"
      ],
      "metadata": {
        "id": "lsQ2WYFu8mf3"
      },
      "execution_count": 12,
      "outputs": []
    }
  ]
}