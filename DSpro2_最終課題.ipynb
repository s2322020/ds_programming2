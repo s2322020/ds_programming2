{
  "cells": [
    {
      "cell_type": "code",
      "execution_count": 1,
      "metadata": {
        "colab": {
          "base_uri": "https://localhost:8080/"
        },
        "id": "Lc85pmOZj4Nv",
        "outputId": "c0016f79-fcdd-4b40-d9ea-f92b4ee08195"
      },
      "outputs": [
        {
          "name": "stdout",
          "output_type": "stream",
          "text": [
            "Requirement already satisfied: pandas in /usr/local/lib/python3.10/dist-packages (1.5.3)\n",
            "Requirement already satisfied: openpyxl in /usr/local/lib/python3.10/dist-packages (3.1.2)\n",
            "Requirement already satisfied: python-dateutil>=2.8.1 in /usr/local/lib/python3.10/dist-packages (from pandas) (2.8.2)\n",
            "Requirement already satisfied: pytz>=2020.1 in /usr/local/lib/python3.10/dist-packages (from pandas) (2023.3.post1)\n",
            "Requirement already satisfied: numpy>=1.21.0 in /usr/local/lib/python3.10/dist-packages (from pandas) (1.23.5)\n",
            "Requirement already satisfied: et-xmlfile in /usr/local/lib/python3.10/dist-packages (from openpyxl) (1.1.0)\n",
            "Requirement already satisfied: six>=1.5 in /usr/local/lib/python3.10/dist-packages (from python-dateutil>=2.8.1->pandas) (1.16.0)\n"
          ]
        }
      ],
      "source": [
        "pip install pandas openpyxl"
      ]
    },
    {
      "cell_type": "code",
      "execution_count": 2,
      "metadata": {
        "colab": {
          "base_uri": "https://localhost:8080/"
        },
        "id": "W0ybpX4LkNhh",
        "outputId": "67509125-e123-4c4f-f0aa-39e39a6319a4"
      },
      "outputs": [
        {
          "name": "stdout",
          "output_type": "stream",
          "text": [
            "日: 1  気温: 8.7\n",
            "日: 2  気温: 8.3\n",
            "日: 3  気温: 9.1\n",
            "日: 4  気温: 8.7\n",
            "日: 5  気温: 8.1\n",
            "日: 6  気温: 11.4\n",
            "日: 7  気温: 12.9\n",
            "日: 8  気温: 12.3\n",
            "日: 9  気温: 11.9\n",
            "日: 10  気温: 13.0\n",
            "日: 11  気温: 13.4\n",
            "日: 12  気温: 11.9\n",
            "日: 13  気温: 10.8\n",
            "日: 14  気温: 10.2\n",
            "日: 15  気温: 11.0\n",
            "日: 16  気温: 17.0\n",
            "日: 17  気温: 11.2\n",
            "日: 18  気温: 7.0\n",
            "日: 19  気温: 7.0\n",
            "日: 20  気温: 8.5\n",
            "日: 21  気温: 7.7\n",
            "日: 22  気温: 5.3\n",
            "日: 23  気温: 5.0\n",
            "日: 24  気温: 4.9\n",
            "日: 25  気温: 6.3\n",
            "日: 26  気温: 7.6\n",
            "日: 27  気温: 8.4\n",
            "日: 28  気温: 7.0\n",
            "日: 29  気温: 7.8\n",
            "日: 30  気温: 9.0\n",
            "日: 31  気温: 9.2\n"
          ]
        }
      ],
      "source": [
        "from bs4 import BeautifulSoup\n",
        "import requests\n",
        "import sqlite3\n",
        "import pandas as pd\n",
        "\n",
        "#データは石川春音さんが見つけてくれました\n",
        "url = 'https://www.data.jma.go.jp/obd/stats/etrn/view/daily_s1.php?prec_no=44&block_no=47662&year=2023&month=12&day=&view=a2'\n",
        "\n",
        "response = requests.get(url)\n",
        "\n",
        "if response.status_code == 200:\n",
        "    soup = BeautifulSoup(response.text, 'html.parser')\n",
        "\n",
        "    table = soup.find('table', {'class': 'data2_s'})\n",
        "\n",
        "    if table:\n",
        "        # 表の各行を取得\n",
        "        rows = table.find_all('tr')\n",
        "\n",
        "        for row in rows:\n",
        "            # 行の各セルを取得\n",
        "            columns = row.find_all('td')\n",
        "\n",
        "            if columns:\n",
        "                day_data = columns[0].text.strip() # 日にちのデータ\n",
        "                temperature_data = columns[10].text.strip()  # 気温のデータ\n",
        "\n",
        "                print(f\"日: {day_data}\" f\"  気温: {temperature_data}\")\n",
        "\n",
        "else:\n",
        "    print(f\"Failed to retrieve the page. Status code: {response.status_code}\")"
      ]
    },
    {
      "cell_type": "code",
      "execution_count": 3,
      "metadata": {
        "colab": {
          "base_uri": "https://localhost:8080/"
        },
        "id": "f58XLhlOkS8u",
        "outputId": "48727deb-2314-4486-b66b-b5cf5ac7ee82"
      },
      "outputs": [
        {
          "name": "stdout",
          "output_type": "stream",
          "text": [
            "   2023-12-13 10:39:35  36.7\n",
            "0  2023-12-13 10:39:50  36.5\n",
            "1  2023-12-13 10:39:58  36.5\n",
            "2  2023-12-13 10:41:07  36.7\n",
            "3  2023-12-13 10:57:36  35.4\n",
            "4  2023-12-13 11:04:07  36.7\n",
            "5  2023-12-13 16:29:42  36.3\n",
            "6  2023-12-14 12:32:41  36.7\n",
            "7  2023-12-14 14:20:30  35.7\n",
            "8  2023-12-14 20:29:27  36.4\n",
            "9  2023-12-15 10:43:43  36.1\n",
            "10 2023-12-15 11:33:52  36.7\n",
            "11 2023-12-15 12:04:10  36.2\n",
            "12 2023-12-15 13:13:22  36.2\n",
            "13 2023-12-16 20:21:40  36.6\n",
            "14 2023-12-16 23:02:08  36.6\n",
            "15 2023-12-17 09:29:17  36.7\n",
            "16 2023-12-18 17:02:31  36.3\n",
            "17 2023-12-18 18:46:17  36.2\n",
            "18 2023-12-18 23:57:34  36.8\n",
            "19 2023-12-19 09:45:27  36.1\n",
            "20 2023-12-19 09:47:27  36.0\n",
            "21 2023-12-19 09:47:34  35.8\n",
            "22 2023-12-20 08:58:20  35.7\n",
            "23 2023-12-20 09:01:21  35.7\n",
            "24 2023-12-20 14:42:45  36.2\n",
            "25 2023-12-21 17:56:24  36.2\n",
            "26 2023-12-22 09:28:51  36.4\n",
            "27 2023-12-23 08:51:30  35.9\n",
            "28 2023-12-23 14:54:29  36.8\n",
            "29 2023-12-24 07:13:49  35.3\n",
            "30 2023-12-25 13:14:40  36.8\n",
            "31 2023-12-25 14:37:02  36.9\n",
            "32 2023-12-25 15:39:31  36.7\n",
            "33 2023-12-26 17:03:45  35.7\n",
            "34 2023-12-27 10:43:07  36.5\n",
            "35 2023-12-27 11:40:03  36.2\n",
            "36 2023-12-27 13:01:14  36.5\n",
            "37 2023-12-27 23:23:20  36.7\n",
            "38 2023-12-28 12:54:36  36.7\n",
            "39 2023-12-29 14:02:15  36.3\n",
            "40 2023-12-29 14:10:59  36.7\n",
            "41 2023-12-30 11:51:00  36.7\n",
            "42 2023-12-30 13:38:06  36.5\n",
            "43 2023-12-30 20:08:09  36.6\n",
            "44 2023-12-31 09:40:15  36.2\n"
          ]
        }
      ],
      "source": [
        "import pandas as pd\n",
        "\n",
        "# エクセルファイルのパス\n",
        "excel_file_path = '/content/Book1.xlsx'\n",
        "\n",
        "# Excelファイルを読み込む\n",
        "df = pd.read_excel(excel_file_path, engine='openpyxl')\n",
        "\n",
        "print(df) #読み込んだエクセルのデーターを表示\n"
      ]
    }
  ],
  "metadata": {
    "colab": {
      "provenance": []
    },
    "kernelspec": {
      "display_name": "Python 3",
      "name": "python3"
    },
    "language_info": {
      "name": "python"
    }
  },
  "nbformat": 4,
  "nbformat_minor": 0
}
